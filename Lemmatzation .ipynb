{
 "cells": [
  {
   "cell_type": "code",
   "execution_count": 1,
   "metadata": {},
   "outputs": [],
   "source": [
    "import nltk\n",
    "from nltk.stem import WordNetLemmatizer\n",
    "from nltk.corpus import stopwords"
   ]
  },
  {
   "cell_type": "code",
   "execution_count": 19,
   "metadata": {},
   "outputs": [],
   "source": [
    "paragraph = \"\"\"I have a dream that one day down in Alabama, with its vicious racists, \n",
    "with its governor having his lips dripping with the words of interposition and nullification – \n",
    "one day right there in Alabama little black boys and black girls will be able to join hands\n",
    "with little white boys and white girls as sisters and brothers.I have a dream today.\n",
    "I have a dream that one day every valley shall be exalted and every hill and mountain \n",
    "shall be made low, the rough places will be made plain, and the crooked places will \n",
    "be made straight, and the glory of the Lord shall be revealed and all flesh shall see it together togeth toget.\"\"\""
   ]
  },
  {
   "cell_type": "code",
   "execution_count": 20,
   "metadata": {},
   "outputs": [],
   "source": [
    "sentences = nltk.sent_tokenize(paragraph)\n",
    "lemmatizer = WordNetLemmatizer()"
   ]
  },
  {
   "cell_type": "code",
   "execution_count": 21,
   "metadata": {},
   "outputs": [],
   "source": [
    "senten = [0,1]"
   ]
  },
  {
   "cell_type": "code",
   "execution_count": 25,
   "metadata": {},
   "outputs": [
    {
     "name": "stdout",
     "output_type": "stream",
     "text": [
      "['I', 'dream', 'one', 'day', 'Alabama', ',', 'vicious', 'racist', ',', 'governor', 'lip', 'dripping', 'word', 'interposition', 'nullification', '–', 'one', 'day', 'right', 'Alabama', 'little', 'black', 'boy', 'black', 'girl', 'able', 'join', 'hand', 'little', 'white', 'boy', 'white', 'girl', 'sister', 'brothers.I', 'dream', 'today', '.']\n",
      "['I', 'dream', 'one', 'day', 'every', 'valley', 'shall', 'exalted', 'every', 'hill', 'mountain', 'shall', 'made', 'low', ',', 'rough', 'place', 'made', 'plain', ',', 'crooked', 'place', 'made', 'straight', ',', 'glory', 'Lord', 'shall', 'revealed', 'flesh', 'shall', 'see', 'together', 'togeth', 'toget', '.']\n"
     ]
    }
   ],
   "source": [
    "for i in range(len(sentences)):\n",
    "    words = nltk.word_tokenize(sentences[i])\n",
    "    words = [lemmatizer.lemmatize(word) for word in words if word not in set(stopwords.words('english'))]\n",
    "    print(words)\n",
    "    senten[i] = ' '.join(words) "
   ]
  },
  {
   "cell_type": "code",
   "execution_count": 23,
   "metadata": {},
   "outputs": [
    {
     "data": {
      "text/plain": [
       "['I have a dream that one day down in Alabama, with its vicious racists, \\nwith its governor having his lips dripping with the words of interposition and nullification – \\none day right there in Alabama little black boys and black girls will be able to join hands\\nwith little white boys and white girls as sisters and brothers.I have a dream today.',\n",
       " 'I have a dream that one day every valley shall be exalted and every hill and mountain \\nshall be made low, the rough places will be made plain, and the crooked places will \\nbe made straight, and the glory of the Lord shall be revealed and all flesh shall see it together togeth toget.']"
      ]
     },
     "execution_count": 23,
     "metadata": {},
     "output_type": "execute_result"
    }
   ],
   "source": [
    "sentences"
   ]
  }
 ],
 "metadata": {
  "kernelspec": {
   "display_name": "Python 3",
   "language": "python",
   "name": "python3"
  },
  "language_info": {
   "codemirror_mode": {
    "name": "ipython",
    "version": 3
   },
   "file_extension": ".py",
   "mimetype": "text/x-python",
   "name": "python",
   "nbconvert_exporter": "python",
   "pygments_lexer": "ipython3",
   "version": "3.8.5"
  }
 },
 "nbformat": 4,
 "nbformat_minor": 4
}
